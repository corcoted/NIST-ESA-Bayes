{
 "cells": [
  {
   "cell_type": "markdown",
   "metadata": {},
   "source": [
    "# Section 1.4.2.1\n",
    "https://www.itl.nist.gov/div898/handbook/eda/section4/eda421.htm\n",
    "\n",
    "Normal random numbers"
   ]
  },
  {
   "cell_type": "code",
   "execution_count": null,
   "metadata": {},
   "outputs": [],
   "source": [
    "import numpy as np\n",
    "import matplotlib.pyplot as plt\n",
    "import scipy.stats as st"
   ]
  },
  {
   "cell_type": "code",
   "execution_count": null,
   "metadata": {},
   "outputs": [],
   "source": [
    "# set random seed for reproducibility\n",
    "np.random.seed(123)"
   ]
  },
  {
   "cell_type": "code",
   "execution_count": null,
   "metadata": {},
   "outputs": [],
   "source": [
    "# suppress some warnings from pymc3 output\n",
    "import warnings\n",
    "warnings.filterwarnings(\"ignore\", category=UserWarning)"
   ]
  },
  {
   "cell_type": "code",
   "execution_count": null,
   "metadata": {},
   "outputs": [],
   "source": [
    "%matplotlib inline"
   ]
  },
  {
   "cell_type": "markdown",
   "metadata": {},
   "source": [
    "The data set has been downloaded from https://www.itl.nist.gov/div898/handbook/datasets/RANDN.DAT"
   ]
  },
  {
   "cell_type": "code",
   "execution_count": null,
   "metadata": {},
   "outputs": [],
   "source": [
    "# load data from file as 1d array\n",
    "filename = 'RANDN.DAT'\n",
    "data = (np.loadtxt(filename,skiprows=25)).flatten()"
   ]
  },
  {
   "cell_type": "code",
   "execution_count": null,
   "metadata": {},
   "outputs": [],
   "source": [
    "n=len(data);\n",
    "print(n)"
   ]
  },
  {
   "cell_type": "code",
   "execution_count": null,
   "metadata": {},
   "outputs": [],
   "source": [
    "data[:5] # first five data points"
   ]
  },
  {
   "cell_type": "markdown",
   "metadata": {},
   "source": [
    "Check some summary statistics to see if they agree.  The published mean in -0.00294 and the published standard deviation is 1.021042."
   ]
  },
  {
   "cell_type": "code",
   "execution_count": null,
   "metadata": {},
   "outputs": [],
   "source": [
    "data.mean()"
   ]
  },
  {
   "cell_type": "code",
   "execution_count": null,
   "metadata": {},
   "outputs": [],
   "source": [
    "data.std(ddof=1) # ddof=1 gives sample deviation instead of population deviation (ddof=0)."
   ]
  },
  {
   "cell_type": "markdown",
   "metadata": {},
   "source": [
    "Reproduce the plots in the source to check for consistency"
   ]
  },
  {
   "cell_type": "code",
   "execution_count": null,
   "metadata": {},
   "outputs": [],
   "source": [
    "plt.plot(data)\n",
    "plt.title('Data sequence');"
   ]
  },
  {
   "cell_type": "code",
   "execution_count": null,
   "metadata": {},
   "outputs": [],
   "source": [
    "plt.hist(data,bins=25)\n",
    "plt.title('Data histogram');"
   ]
  },
  {
   "cell_type": "code",
   "execution_count": null,
   "metadata": {},
   "outputs": [],
   "source": [
    "plt.plot(data[:-1],data[1:],'.')\n",
    "plt.xlabel('$x_i$');\n",
    "plt.ylabel('$x_{i+1}$')\n",
    "plt.title('Lag plot');"
   ]
  },
  {
   "cell_type": "markdown",
   "metadata": {},
   "source": [
    "## Posterior of the mean, assuming fixed variance"
   ]
  },
  {
   "cell_type": "markdown",
   "metadata": {},
   "source": [
    "Since the data are nominally normally distributed, if we assume a flat prior, analytically we'll get a posterior of\n",
    "$$\n",
    "p(\\theta|y) \\approx N(\\theta,\\bar{y},\\sigma^2/n)\n",
    "$$\n",
    "(ref. Gelman pg 52)"
   ]
  },
  {
   "cell_type": "code",
   "execution_count": null,
   "metadata": {},
   "outputs": [],
   "source": [
    "x = np.linspace(-1,1,100)\n",
    "plt.plot(x,st.norm.pdf(x,data.mean(),np.sqrt(data.std(ddof=1)/n)))\n",
    "plt.title('Posterior of the mean')\n",
    "plt.xlabel(r'$ \\theta $');"
   ]
  },
  {
   "cell_type": "markdown",
   "metadata": {},
   "source": [
    "### Model using MCMC"
   ]
  },
  {
   "cell_type": "code",
   "execution_count": null,
   "metadata": {},
   "outputs": [],
   "source": [
    "import pymc3 as pm"
   ]
  },
  {
   "cell_type": "code",
   "execution_count": null,
   "metadata": {},
   "outputs": [],
   "source": [
    "with pm.Model() as model1:\n",
    "    theta = pm.Flat('theta')\n",
    "    sigma = data.std(ddof=1)\n",
    "    yobs = pm.Normal('yobs',mu=theta,sigma=sigma,observed=data)"
   ]
  },
  {
   "cell_type": "code",
   "execution_count": null,
   "metadata": {},
   "outputs": [],
   "source": [
    "model1.name='Unknown mean'"
   ]
  },
  {
   "cell_type": "code",
   "execution_count": null,
   "metadata": {},
   "outputs": [],
   "source": [
    "with model1:\n",
    "    trace1=pm.sample(1000)"
   ]
  },
  {
   "cell_type": "code",
   "execution_count": null,
   "metadata": {},
   "outputs": [],
   "source": [
    "pm.traceplot(trace1);"
   ]
  },
  {
   "cell_type": "code",
   "execution_count": null,
   "metadata": {},
   "outputs": [],
   "source": [
    "# Compare numerical results to analytic results\n",
    "pm.plot_posterior(trace1)\n",
    "x = np.linspace(-0.15,0.15,100)\n",
    "plt.plot(x,st.norm.pdf(x,data.mean(),np.sqrt(data.std(ddof=1)/n)),'r')\n",
    "plt.legend(['MCMC','HPD','Analytic']);"
   ]
  },
  {
   "cell_type": "markdown",
   "metadata": {},
   "source": [
    "### TODOs\n",
    "* Add linear drift and compare the fixed mean model with linear drift model\n",
    "* Compare to Gaussian Process model"
   ]
  },
  {
   "cell_type": "markdown",
   "metadata": {},
   "source": [
    "## Posterior of the variance, assuming fixed mean\n",
    "For a noninformative prior, the posterior of the variance is\n",
    "$$\n",
    "p(\\sigma^2|y) = \\mathrm{Inv}\\chi^2\\left(\\nu_0+n,\\frac{\\nu_0\\sigma_0^2+n\\nu}{\\nu_0+n} \\right)\n",
    "= \\mathrm{Inv}\\Gamma\\left(\\alpha = \\frac12(\\nu_0+n),\\beta = \\frac12(\\nu_0+n)\\frac{\\nu_0\\sigma_0^2+nv}{\\nu_0+n} \\right)\n",
    "$$\n",
    "where $$ v = \\frac{1}{n}\\sum(y_i-\\mu)^2 $$"
   ]
  },
  {
   "cell_type": "markdown",
   "metadata": {},
   "source": [
    "For the noninformative prior, $\\nu_0=0$."
   ]
  },
  {
   "cell_type": "code",
   "execution_count": null,
   "metadata": {},
   "outputs": [],
   "source": [
    "mu = data.mean()\n",
    "v = np.sum((data-mu)**2)/n\n",
    "alpha = n/2\n",
    "beta = n/2*v"
   ]
  },
  {
   "cell_type": "code",
   "execution_count": null,
   "metadata": {},
   "outputs": [],
   "source": [
    "x=np.linspace(0,3,100)\n",
    "plt.plot(x,st.invgamma.pdf(x,a=alpha,scale=beta))\n",
    "plt.xlabel('$\\sigma^2$')\n",
    "plt.title('Posterior of the variance');"
   ]
  },
  {
   "cell_type": "markdown",
   "metadata": {},
   "source": [
    "### Model using MCMC\n"
   ]
  },
  {
   "cell_type": "code",
   "execution_count": null,
   "metadata": {},
   "outputs": [],
   "source": [
    "with pm.Model() as model2:\n",
    "    logs = pm.Flat('logs')\n",
    "    s = pm.Deterministic('s',pm.math.exp(logs))\n",
    "    s2 = pm.Deterministic('s2',s*s)\n",
    "    yobs = pm.Normal('yobs',mu=data.mean(),sigma=s,observed=data)"
   ]
  },
  {
   "cell_type": "code",
   "execution_count": null,
   "metadata": {},
   "outputs": [],
   "source": [
    "model2.name='Unknown sigma'"
   ]
  },
  {
   "cell_type": "code",
   "execution_count": null,
   "metadata": {},
   "outputs": [],
   "source": [
    "with model2:\n",
    "    trace2 = pm.sample(1000)"
   ]
  },
  {
   "cell_type": "code",
   "execution_count": null,
   "metadata": {},
   "outputs": [],
   "source": [
    "pm.traceplot(trace2,var_names='s2');"
   ]
  },
  {
   "cell_type": "code",
   "execution_count": null,
   "metadata": {},
   "outputs": [],
   "source": [
    "pm.plot_posterior(trace2,var_names='s2')\n",
    "x=np.linspace(0.8,1.4,100)\n",
    "plt.plot(x,st.invgamma.pdf(x,a=alpha,scale=beta),'r')\n",
    "plt.legend(['MCMC','HPD','Analytic'])\n",
    "plt.xlabel('$\\sigma^2$');"
   ]
  },
  {
   "cell_type": "markdown",
   "metadata": {},
   "source": [
    "## Posterior for unknown mean and unknown variance"
   ]
  },
  {
   "cell_type": "markdown",
   "metadata": {},
   "source": [
    "The joint posterior for the mean and variance, assuming a noninformative prior, is\n",
    "$$\n",
    "p(\\mu,\\sigma^2|y) = \\frac{1}{\\sigma^{n+2}} \\exp\\left(\n",
    "-\\frac{1}{2\\sigma^2}\\left( (n-1)s^2 + n(\\bar{y}-\\mu)^2\\right)\n",
    "\\right)\n",
    "$$\n",
    "where $\\bar{y}$ is the sample mean and $s^2$ is the sample variance."
   ]
  },
  {
   "cell_type": "markdown",
   "metadata": {},
   "source": [
    "The marginal posterior for the mean and variance are\n",
    "$$\n",
    "p(\\mu|y) = t_{n-1}(\\bar{y},s^2/n)\\qquad\\textrm{and}\\qquad\n",
    "p(\\sigma^2|y) = \\mathrm{Inv}\\chi^2\\left(n-1,s^2 \\right)\n",
    "=\\mathrm{Inv}\\Gamma\\left(\\alpha=(n-1)/2 ,\\beta=s^2(n-1)/2 \\right)\n",
    "$$"
   ]
  },
  {
   "cell_type": "code",
   "execution_count": null,
   "metadata": {},
   "outputs": [],
   "source": [
    "# TODO plot the joint posterior and marginal posteriors"
   ]
  },
  {
   "cell_type": "markdown",
   "metadata": {},
   "source": [
    "### MCMC"
   ]
  },
  {
   "cell_type": "code",
   "execution_count": null,
   "metadata": {},
   "outputs": [],
   "source": [
    "with pm.Model() as model3:\n",
    "    logs = pm.Flat('logs')\n",
    "    s = pm.Deterministic('s',pm.math.exp(logs))\n",
    "    s2 = pm.Deterministic('s2',s*s)\n",
    "    mu = pm.Flat('mu')\n",
    "    yobs = pm.Normal('yobs',mu=mu,sigma=s,observed=data)"
   ]
  },
  {
   "cell_type": "code",
   "execution_count": null,
   "metadata": {},
   "outputs": [],
   "source": [
    "model3.name='Unknown mean and std'"
   ]
  },
  {
   "cell_type": "code",
   "execution_count": null,
   "metadata": {},
   "outputs": [],
   "source": [
    "with model3:\n",
    "    trace3 = pm.sample(1000)"
   ]
  },
  {
   "cell_type": "code",
   "execution_count": null,
   "metadata": {},
   "outputs": [],
   "source": [
    "pm.traceplot(trace3,var_names=['mu','s2']);"
   ]
  },
  {
   "cell_type": "code",
   "execution_count": null,
   "metadata": {},
   "outputs": [],
   "source": [
    "pm.plot_posterior(trace3,var_names=['mu','s2']);"
   ]
  },
  {
   "cell_type": "code",
   "execution_count": null,
   "metadata": {},
   "outputs": [],
   "source": [
    "pm.pairplot(trace3,var_names=['mu','s2'],plot_kwargs={'alpha': 0.2});"
   ]
  },
  {
   "cell_type": "code",
   "execution_count": null,
   "metadata": {},
   "outputs": [],
   "source": [
    "import corner"
   ]
  },
  {
   "cell_type": "code",
   "execution_count": null,
   "metadata": {},
   "outputs": [],
   "source": [
    "corner.corner(np.vstack((trace3['mu'], trace3['s2'])).T,labels=['$\\mu$','$\\sigma^2$']);"
   ]
  },
  {
   "cell_type": "markdown",
   "metadata": {},
   "source": [
    "## Linear drift model\n",
    "Check to see if the mean depends on time, by fitting a linear model."
   ]
  },
  {
   "cell_type": "code",
   "execution_count": null,
   "metadata": {},
   "outputs": [],
   "source": [
    "x=np.arange(n)"
   ]
  },
  {
   "cell_type": "markdown",
   "metadata": {},
   "source": [
    "### TODO\n",
    "Solve this analytically"
   ]
  },
  {
   "cell_type": "markdown",
   "metadata": {},
   "source": [
    "### MCMC"
   ]
  },
  {
   "cell_type": "code",
   "execution_count": null,
   "metadata": {},
   "outputs": [],
   "source": [
    "with pm.Model() as model4:\n",
    "    a = pm.Flat('a')\n",
    "    b = pm.Flat('b')\n",
    "    sigma = data.std(ddof=1)\n",
    "    mu = pm.Deterministic('mu',a*x+b)\n",
    "    yobs = pm.Normal('yobs',mu=mu,sigma=sigma,observed=data)"
   ]
  },
  {
   "cell_type": "code",
   "execution_count": null,
   "metadata": {},
   "outputs": [],
   "source": [
    "model4.name='Linear drift'"
   ]
  },
  {
   "cell_type": "code",
   "execution_count": null,
   "metadata": {},
   "outputs": [],
   "source": [
    "with model4:\n",
    "    tune=1000\n",
    "    trace4=pm.sample(1000,tune=tune)"
   ]
  },
  {
   "cell_type": "code",
   "execution_count": null,
   "metadata": {},
   "outputs": [],
   "source": [
    "pm.traceplot(trace4,var_names=['a','b']);"
   ]
  },
  {
   "cell_type": "code",
   "execution_count": null,
   "metadata": {},
   "outputs": [],
   "source": [
    "corner.corner(np.vstack((trace4['a'],trace4['b'])).T,labels=['a','b']);"
   ]
  },
  {
   "cell_type": "code",
   "execution_count": null,
   "metadata": {},
   "outputs": [],
   "source": [
    "# calculate posterior predictive values of the fit\n",
    "with model4:\n",
    "    post4 = pm.sample_posterior_predictive(trace4,500,var_names=['mu'])"
   ]
  },
  {
   "cell_type": "code",
   "execution_count": null,
   "metadata": {},
   "outputs": [],
   "source": [
    "import matplotlib.lines\n",
    "plt.plot(x,post4['mu'].T,'-b',alpha=0.03)\n",
    "plt.plot(x,data,'.r');\n",
    "legfit = matplotlib.lines.Line2D([],[],color='b')\n",
    "legdata = matplotlib.lines.Line2D([],[],color='r',marker='.',linewidth=0)\n",
    "plt.legend([legdata,legfit],['data','fit']);"
   ]
  },
  {
   "cell_type": "markdown",
   "metadata": {},
   "source": [
    "## Model comparison\n",
    "(I don't understand this yet, but following the recipes in the `pymc3` examples...)"
   ]
  },
  {
   "cell_type": "code",
   "execution_count": null,
   "metadata": {},
   "outputs": [],
   "source": [
    "models={model4: trace4, model1: trace1}"
   ]
  },
  {
   "cell_type": "code",
   "execution_count": null,
   "metadata": {},
   "outputs": [],
   "source": [
    "pm.compare(models,ic='WAIC')"
   ]
  },
  {
   "cell_type": "markdown",
   "metadata": {},
   "source": [
    "The top entry in the table is the prefered model, including \"Occam's razor\" factor."
   ]
  },
  {
   "cell_type": "code",
   "execution_count": null,
   "metadata": {},
   "outputs": [],
   "source": []
  }
 ],
 "metadata": {
  "kernelspec": {
   "display_name": "Python [conda env:pymc3]",
   "language": "python",
   "name": "conda-env-pymc3-py"
  },
  "language_info": {
   "codemirror_mode": {
    "name": "ipython",
    "version": 3
   },
   "file_extension": ".py",
   "mimetype": "text/x-python",
   "name": "python",
   "nbconvert_exporter": "python",
   "pygments_lexer": "ipython3",
   "version": "3.7.6"
  }
 },
 "nbformat": 4,
 "nbformat_minor": 4
}
