{
 "cells": [
  {
   "cell_type": "markdown",
   "metadata": {},
   "source": [
    "# Josephson Juction data example\n",
    "From https://www.itl.nist.gov/div898/handbook/eda/section4/eda424.htm"
   ]
  },
  {
   "cell_type": "markdown",
   "metadata": {},
   "source": [
    "One interesting thing about this data is that it is discrete (presumably because of rounding)."
   ]
  },
  {
   "cell_type": "markdown",
   "metadata": {},
   "source": [
    "The strategy here is to treat this just like the Normal Random Data example, but then add a model that includes the rounding effect."
   ]
  },
  {
   "cell_type": "code",
   "execution_count": null,
   "metadata": {},
   "outputs": [],
   "source": [
    "import numpy as np\n",
    "import scipy.stats as st\n",
    "import pymc3 as pm\n",
    "import matplotlib.pyplot as plt"
   ]
  },
  {
   "cell_type": "code",
   "execution_count": null,
   "metadata": {},
   "outputs": [],
   "source": [
    "%matplotlib inline"
   ]
  },
  {
   "cell_type": "code",
   "execution_count": null,
   "metadata": {},
   "outputs": [],
   "source": [
    "# suppress some warnings from pymc3 output\n",
    "import warnings\n",
    "warnings.filterwarnings(\"ignore\", category=UserWarning)"
   ]
  },
  {
   "cell_type": "code",
   "execution_count": null,
   "metadata": {},
   "outputs": [],
   "source": [
    "# set random seed for reproducibility\n",
    "np.random.seed(412)"
   ]
  },
  {
   "cell_type": "markdown",
   "metadata": {},
   "source": [
    "The data is downloaded from https://www.itl.nist.gov/div898/handbook/datasets/SOULEN.DAT"
   ]
  },
  {
   "cell_type": "code",
   "execution_count": null,
   "metadata": {},
   "outputs": [],
   "source": [
    "filename='SOULEN.DAT'\n",
    "data=(np.loadtxt(filename,skiprows=25,dtype='int')).flatten()"
   ]
  },
  {
   "cell_type": "code",
   "execution_count": null,
   "metadata": {},
   "outputs": [],
   "source": [
    "plt.plot(data,'.')"
   ]
  },
  {
   "cell_type": "code",
   "execution_count": null,
   "metadata": {},
   "outputs": [],
   "source": [
    "plt.hist(data,bins=np.arange(data.min()-0.5,data.max()+1.5));"
   ]
  },
  {
   "cell_type": "code",
   "execution_count": null,
   "metadata": {},
   "outputs": [],
   "source": [
    "print('Sample mean: {}, Sample std: {}'.format(data.mean(), data.std(ddof=1)))"
   ]
  },
  {
   "cell_type": "markdown",
   "metadata": {},
   "source": [
    "## MCMC"
   ]
  },
  {
   "cell_type": "markdown",
   "metadata": {},
   "source": [
    "It seems that the flat priors cause the sampler to fail, so I'll use weakly informative priors."
   ]
  },
  {
   "cell_type": "code",
   "execution_count": null,
   "metadata": {},
   "outputs": [],
   "source": [
    "with pm.Model() as model1:\n",
    "    #logs = pm.Flat('logs')\n",
    "    logs = pm.Normal('logs',mu=np.log(data.std(ddof=1)),sigma=10*np.log(data.std(ddof=1)))\n",
    "    s = pm.Deterministic('s',pm.math.exp(logs))\n",
    "    s2 = pm.Deterministic('s2',s*s)\n",
    "    #mu = pm.Flat('mu')\n",
    "    mu = pm.Normal('mu',mu=data.mean(),sigma=10*data.std(ddof=1))\n",
    "    yobs = pm.Normal('yobs',mu=mu,sigma=s,observed=data)"
   ]
  },
  {
   "cell_type": "code",
   "execution_count": null,
   "metadata": {},
   "outputs": [],
   "source": [
    "model1.name='Unknown mean and var'"
   ]
  },
  {
   "cell_type": "code",
   "execution_count": null,
   "metadata": {},
   "outputs": [],
   "source": [
    "with model1:\n",
    "    trace1 = pm.sample(1000)"
   ]
  },
  {
   "cell_type": "code",
   "execution_count": null,
   "metadata": {},
   "outputs": [],
   "source": [
    "pm.traceplot(trace1,var_names=['mu','s2']);"
   ]
  },
  {
   "cell_type": "code",
   "execution_count": null,
   "metadata": {},
   "outputs": [],
   "source": [
    "pm.plot_posterior(trace1,var_names=['mu','s2']);"
   ]
  },
  {
   "cell_type": "code",
   "execution_count": null,
   "metadata": {},
   "outputs": [],
   "source": [
    "import corner"
   ]
  },
  {
   "cell_type": "code",
   "execution_count": null,
   "metadata": {},
   "outputs": [],
   "source": [
    "corner.corner(np.vstack([trace1['mu'],trace1['s2']]).T,labels=['mu','s2']);"
   ]
  },
  {
   "cell_type": "code",
   "execution_count": null,
   "metadata": {},
   "outputs": [],
   "source": [
    "np.quantile(trace1['mu'],[0.025,0.5,0.9725])"
   ]
  },
  {
   "cell_type": "code",
   "execution_count": null,
   "metadata": {},
   "outputs": [],
   "source": [
    "np.quantile(trace1['s2'],[0.025,0.5,0.9725])"
   ]
  },
  {
   "cell_type": "markdown",
   "metadata": {},
   "source": [
    "## MCMC with latent rounding model"
   ]
  },
  {
   "cell_type": "code",
   "execution_count": null,
   "metadata": {},
   "outputs": [],
   "source": [
    "# write log-likelihood for rounded normal\n",
    "def RNlogp(mu, sigma, x):\n",
    "    # This is slow, but it seems to work\n",
    "    cdf = lambda x: pm.math.exp(pm.Normal.dist(mu=mu,sigma=sigma).logcdf(x))\n",
    "    return pm.math.log(cdf(x+0.5)-cdf(x-0.5))\n"
   ]
  },
  {
   "cell_type": "code",
   "execution_count": null,
   "metadata": {},
   "outputs": [],
   "source": [
    "# write random model for RN\n",
    "def RNrand(point, size):\n",
    "    mu=point['mu']\n",
    "    sigma=point['s']\n",
    "    raw = pm.Normal.dist(mu=mu,sigma=sigma).random(size=size)\n",
    "    return np.floor(raw+0.5)"
   ]
  },
  {
   "cell_type": "code",
   "execution_count": null,
   "metadata": {},
   "outputs": [],
   "source": [
    "with pm.Model() as model2:\n",
    "    #logs = pm.Flat('logs')\n",
    "    logs = pm.Normal('logs',mu=np.log(data.std(ddof=1)),sigma=10*np.log(data.std(ddof=1)))\n",
    "    s = pm.Deterministic('s',pm.math.exp(logs))\n",
    "    s2 = pm.Deterministic('s2',s*s)\n",
    "    #mu = pm.Flat('mu')\n",
    "    mu = pm.Normal('mu',mu=data.mean(),sigma=10*data.std(ddof=1))\n",
    "    yobs = pm.DensityDist('yobs',logp=lambda x: RNlogp(mu,s,x),random=RNrand,observed=data)\n",
    "    #yobs = pm.Potential('yobs', RNlogp(mu,s,data))"
   ]
  },
  {
   "cell_type": "code",
   "execution_count": null,
   "metadata": {},
   "outputs": [],
   "source": [
    "model2.name='Rounded'"
   ]
  },
  {
   "cell_type": "code",
   "execution_count": null,
   "metadata": {},
   "outputs": [],
   "source": [
    "with model2:\n",
    "    trace2=pm.sample(1000)"
   ]
  },
  {
   "cell_type": "code",
   "execution_count": null,
   "metadata": {},
   "outputs": [],
   "source": [
    "pm.traceplot(trace2,var_names=['mu','s2']);"
   ]
  },
  {
   "cell_type": "code",
   "execution_count": null,
   "metadata": {},
   "outputs": [],
   "source": [
    "pm.plot_posterior(trace2,var_names=['mu','s2']);"
   ]
  },
  {
   "cell_type": "code",
   "execution_count": null,
   "metadata": {},
   "outputs": [],
   "source": [
    "np.quantile(trace2['mu'],[0.025,0.5,0.975])"
   ]
  },
  {
   "cell_type": "code",
   "execution_count": null,
   "metadata": {},
   "outputs": [],
   "source": [
    "np.quantile(trace2['s2'],[0.025,0.5,0.975])"
   ]
  },
  {
   "cell_type": "code",
   "execution_count": null,
   "metadata": {},
   "outputs": [],
   "source": [
    "corner.corner(np.vstack([trace2['mu'],trace2['s2']]).T,labels=['mu','s2']);"
   ]
  },
  {
   "cell_type": "code",
   "execution_count": null,
   "metadata": {},
   "outputs": [],
   "source": [
    "with model2:\n",
    "    map2=pm.find_MAP()"
   ]
  },
  {
   "cell_type": "code",
   "execution_count": null,
   "metadata": {},
   "outputs": [],
   "source": [
    "map2"
   ]
  },
  {
   "cell_type": "code",
   "execution_count": null,
   "metadata": {},
   "outputs": [],
   "source": [
    "with model2:\n",
    "    post2 = pm.sample_posterior_predictive(trace2,500)"
   ]
  },
  {
   "cell_type": "code",
   "execution_count": null,
   "metadata": {},
   "outputs": [],
   "source": [
    "bmin = min(data.min(),post2['yobs'].min())-0.5\n",
    "bmax = max(data.max(),post2['yobs'].max())+1.5\n",
    "blist = np.arange(bmin,bmax)\n",
    "plt.hist(post2['yobs'],bins=blist,alpha=0.5,density=True,label='model')\n",
    "plt.hist(data,bins=blist,alpha=0.5,density=True,label='data')\n",
    "plt.title('Normalized histogram')\n",
    "plt.legend();"
   ]
  },
  {
   "cell_type": "markdown",
   "metadata": {},
   "source": [
    "The posterior predictive samples look like the data, so I think the model is believeable."
   ]
  },
  {
   "cell_type": "markdown",
   "metadata": {},
   "source": [
    "Comparing the two models shows that the Rounded model is no better than the basic model."
   ]
  },
  {
   "cell_type": "code",
   "execution_count": null,
   "metadata": {},
   "outputs": [],
   "source": [
    "models={model1: trace1, model2:trace2}\n",
    "pm.compare(models,ic='WAIC')"
   ]
  },
  {
   "cell_type": "code",
   "execution_count": null,
   "metadata": {},
   "outputs": [],
   "source": [
    "pm.compare(models,ic='LOO')"
   ]
  },
  {
   "cell_type": "code",
   "execution_count": null,
   "metadata": {},
   "outputs": [],
   "source": []
  }
 ],
 "metadata": {
  "kernelspec": {
   "display_name": "Python [conda env:pymc3]",
   "language": "python",
   "name": "conda-env-pymc3-py"
  },
  "language_info": {
   "codemirror_mode": {
    "name": "ipython",
    "version": 3
   },
   "file_extension": ".py",
   "mimetype": "text/x-python",
   "name": "python",
   "nbconvert_exporter": "python",
   "pygments_lexer": "ipython3",
   "version": "3.7.6"
  }
 },
 "nbformat": 4,
 "nbformat_minor": 2
}
